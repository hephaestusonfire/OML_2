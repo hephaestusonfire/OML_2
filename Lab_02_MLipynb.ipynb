{
  "nbformat": 4,
  "nbformat_minor": 0,
  "metadata": {
    "colab": {
      "provenance": []
    },
    "kernelspec": {
      "name": "python3",
      "display_name": "Python 3"
    },
    "language_info": {
      "name": "python"
    }
  },
  "cells": [
    {
      "cell_type": "markdown",
      "source": [
        "##x^2+y^2"
      ],
      "metadata": {
        "id": "NU0P5z6yr1p1"
      }
    },
    {
      "cell_type": "code",
      "execution_count": null,
      "metadata": {
        "colab": {
          "base_uri": "https://localhost:8080/"
        },
        "id": "xa_IIS7yrNB9",
        "outputId": "96b06215-0055-4458-b014-612e7b8caadc"
      },
      "outputs": [
        {
          "output_type": "stream",
          "name": "stdout",
          "text": [
            "Nonlinear Unconstrained Result: 5\n"
          ]
        }
      ],
      "source": [
        "def nonlinear_unconstrained(x, y):\n",
        "    return x**2 + y**2\n",
        "\n",
        "x = 1\n",
        "y = 2\n",
        "result_unconstrained = nonlinear_unconstrained(x, y)\n",
        "print(f\"Nonlinear Unconstrained Result: {result_unconstrained}\")\n"
      ]
    },
    {
      "cell_type": "code",
      "source": [
        "from scipy.optimize import minimize\n",
        "def objective(x):\n",
        "    return x[0]**2 + x[1]**2\n",
        "def constraint(x):\n",
        "    return x[0] + x[1] - 1\n",
        "con = {'type': 'ineq', 'fun': constraint}\n",
        "x0 = [0.5, 0.5]\n",
        "solution = minimize(objective, x0, method='SLSQP', constraints=con)\n",
        "print(\"Nonlinear Constrained Result:\")\n",
        "print(f\"Optimal value: {solution.fun}\")\n",
        "print(f\"Optimal solution: x = {solution.x[0]}, y = {solution.x[1]}\")\n"
      ],
      "metadata": {
        "colab": {
          "base_uri": "https://localhost:8080/"
        },
        "id": "DwuZJhgRrf8l",
        "outputId": "338859b6-a112-40b4-933f-bc613cde662f"
      },
      "execution_count": null,
      "outputs": [
        {
          "output_type": "stream",
          "name": "stdout",
          "text": [
            "Nonlinear Constrained Result:\n",
            "Optimal value: 0.5\n",
            "Optimal solution: x = 0.5, y = 0.5\n"
          ]
        }
      ]
    },
    {
      "cell_type": "markdown",
      "source": [
        "##x^3 + 2x^2 - 4xy + 2"
      ],
      "metadata": {
        "id": "Uj5oRhh9sAUa"
      }
    },
    {
      "cell_type": "code",
      "source": [
        "def nonlinear_unconstrained(x, y):\n",
        "    return x**3 + 2*x**2 - 4*x*y + 2\n",
        "x = 1\n",
        "y = 2\n",
        "result_unconstrained = nonlinear_unconstrained(x, y)\n",
        "print(f\"Nonlinear Unconstrained Result: {result_unconstrained}\")\n"
      ],
      "metadata": {
        "colab": {
          "base_uri": "https://localhost:8080/"
        },
        "id": "WbGgx5QQsMIR",
        "outputId": "f46d8af0-d8ca-4cb5-be25-cb65d40d1c68"
      },
      "execution_count": null,
      "outputs": [
        {
          "output_type": "stream",
          "name": "stdout",
          "text": [
            "Nonlinear Unconstrained Result: -3\n"
          ]
        }
      ]
    },
    {
      "cell_type": "code",
      "source": [
        "def objective(x):\n",
        "    return x[0]**3 + 2*x[0]**2 - 4*x[0]*x[1] + 2\n",
        "def constraint(x):\n",
        "    return x[0] + x[1] - 1\n",
        "con = {'type': 'ineq', 'fun': constraint}\n",
        "x0 = [0.5, 0.5]\n",
        "solution = minimize(objective, x0, method='SLSQP', constraints=con)\n",
        "print(\"Nonlinear Constrained Result:\")\n",
        "print(f\"Optimal value: {solution.fun}\")\n",
        "print(f\"Optimal solution: x = {solution.x[0]}, y = {solution.x[1]}\")\n"
      ],
      "metadata": {
        "colab": {
          "base_uri": "https://localhost:8080/"
        },
        "id": "iVQoTu4TsXiN",
        "outputId": "4961a3c0-650b-4577-d347-0c43520551a7"
      },
      "execution_count": null,
      "outputs": [
        {
          "output_type": "stream",
          "name": "stdout",
          "text": [
            "Nonlinear Constrained Result:\n",
            "Optimal value: -3.989588029616726e+52\n",
            "Optimal solution: x = 5.64708202645997e+17, y = 9.738600463546891e+34\n"
          ]
        }
      ]
    },
    {
      "cell_type": "markdown",
      "source": [
        "##x^3 + 2x^2 - 4xy + 2\n",
        "###( without built in \"minimize\")"
      ],
      "metadata": {
        "id": "sKkW8-WAskQ1"
      }
    },
    {
      "cell_type": "code",
      "source": [
        "def f_x_prime(x, y):\n",
        "    return 3*x**2 + 4*x - 4*y\n",
        "\n",
        "def f_y_prime(x, y):\n",
        "    return -4*x\n",
        "def find_critical_points():\n",
        "    x_c = 0\n",
        "    y_c = (3*x_c**2 + 4*x_c) / 4\n",
        "    return x_c, y_c\n",
        "def f_xx_prime(x, y):\n",
        "    return 6*x + 4\n",
        "\n",
        "def f_yy_prime(x, y):\n",
        "    return 0\n",
        "\n",
        "def f_xy_prime(x, y):\n",
        "    return -4\n",
        "def hessian_matrix_and_determinant(x_c, y_c):\n",
        "    H = [[f_xx_prime(x_c, y_c), f_xy_prime(x_c, y_c)],\n",
        "         [f_xy_prime(x_c, y_c), f_yy_prime(x_c, y_c)]]\n",
        "\n",
        "    det_H = H[0][0] * H[1][1] - H[0][1] * H[1][0]\n",
        "    return H, det_H\n",
        "def analyze_critical_point(H, det_H):\n",
        "    if det_H > 0:\n",
        "        if H[0][0] > 0:\n",
        "            return \"Local minimum\"\n",
        "        else:\n",
        "            return \"Local maximum\"\n",
        "    elif det_H < 0:\n",
        "        return \"Saddle point\"\n",
        "    else:\n",
        "        return \"Indeterminate\"\n",
        "x_c, y_c = find_critical_points()\n",
        "print(f\"Critical point: (x_c, y_c) = ({x_c}, {y_c})\")\n",
        "\n",
        "H, det_H = hessian_matrix_and_determinant(x_c, y_c)\n",
        "print(f\"Hessian matrix at the critical point: {H}\")\n",
        "print(f\"Determinant of the Hessian at the critical point: {det_H}\")\n",
        "\n",
        "nature = analyze_critical_point(H, det_H)\n",
        "print(f\"Nature of the critical point: {nature}\")\n"
      ],
      "metadata": {
        "colab": {
          "base_uri": "https://localhost:8080/"
        },
        "id": "05vD6rmLvLQm",
        "outputId": "3f949cf7-3ce4-4a02-b115-6fca5f4bee9d"
      },
      "execution_count": null,
      "outputs": [
        {
          "output_type": "stream",
          "name": "stdout",
          "text": [
            "Critical point: (x_c, y_c) = (0, 0.0)\n",
            "Hessian matrix at the critical point: [[4, -4], [-4, 0]]\n",
            "Determinant of the Hessian at the critical point: -16\n",
            "Nature of the critical point: Saddle point\n"
          ]
        }
      ]
    },
    {
      "cell_type": "markdown",
      "source": [
        "##x^3 - y^2 + 2xy + 1"
      ],
      "metadata": {
        "id": "kn3FGX-gvZUT"
      }
    },
    {
      "cell_type": "code",
      "source": [
        "def f_x_prime(x, y):\n",
        "    return 3*x**2 + 2*y\n",
        "\n",
        "def f_y_prime(x, y):\n",
        "    return -2*y + 2*x\n",
        "\n",
        "def find_critical_points():\n",
        "    y_c1 = 0\n",
        "    x_c1 = 0\n",
        "    x_c2 = -2/3\n",
        "    y_c2 = -2/3\n",
        "\n",
        "    return [(x_c1, y_c1), (x_c2, y_c2)]\n",
        "\n",
        "def f_xx_prime(x, y):\n",
        "    return 6*x\n",
        "\n",
        "def f_yy_prime(x, y):\n",
        "    return -2\n",
        "\n",
        "def f_xy_prime(x, y):\n",
        "    return 2\n",
        "\n",
        "def hessian_matrix_and_determinant(x_c, y_c):\n",
        "    H = [[f_xx_prime(x_c, y_c), f_xy_prime(x_c, y_c)],\n",
        "         [f_xy_prime(x_c, y_c), f_yy_prime(x_c, y_c)]]\n",
        "\n",
        "    det_H = H[0][0] * H[1][1] - H[0][1] * H[1][0]\n",
        "    return H, det_H\n",
        "\n",
        "def analyze_critical_point(H, det_H):\n",
        "    if det_H > 0:\n",
        "        if H[0][0] > 0:\n",
        "            return \"Local minimum\"\n",
        "        else:\n",
        "            return \"Local maximum\"\n",
        "    elif det_H < 0:\n",
        "        return \"Saddle point\"\n",
        "    else:\n",
        "        return \"Indeterminate\"\n",
        "\n",
        "critical_points = find_critical_points()\n",
        "\n",
        "for x_c, y_c in critical_points:\n",
        "    print(f\"Critical point: (x_c, y_c) = ({x_c}, {y_c})\")\n",
        "    H, det_H = hessian_matrix_and_determinant(x_c, y_c)\n",
        "    print(f\"Hessian matrix at the critical point: {H}\")\n",
        "    print(f\"Determinant of the Hessian at the critical point: {det_H}\")\n",
        "    nature = analyze_critical_point(H, det_H)\n",
        "    print(f\"Nature of the critical point: {nature}\\n\")\n"
      ],
      "metadata": {
        "colab": {
          "base_uri": "https://localhost:8080/"
        },
        "id": "w0l5FhaIvY-1",
        "outputId": "d156c246-33c5-440c-cd4c-caf4bb859108"
      },
      "execution_count": null,
      "outputs": [
        {
          "output_type": "stream",
          "name": "stdout",
          "text": [
            "Critical point: (x_c, y_c) = (0, 0)\n",
            "Hessian matrix at the critical point: [[0, 2], [2, -2]]\n",
            "Determinant of the Hessian at the critical point: -4\n",
            "Nature of the critical point: Saddle point\n",
            "\n",
            "Critical point: (x_c, y_c) = (-0.6666666666666666, -0.6666666666666666)\n",
            "Hessian matrix at the critical point: [[-4.0, 2], [2, -2]]\n",
            "Determinant of the Hessian at the critical point: 4.0\n",
            "Nature of the critical point: Local maximum\n",
            "\n"
          ]
        }
      ]
    }
  ]
}